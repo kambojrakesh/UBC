{
 "cells": [
  {
   "cell_type": "code",
   "execution_count": 1,
   "metadata": {},
   "outputs": [
    {
     "name": "stdout",
     "output_type": "stream",
     "text": [
      "Manhattan Distance:  24\n",
      "Euclidean Distance:  15.165750888103101\n"
     ]
    }
   ],
   "source": [
    "# your code here\n",
    "import numpy as np\n",
    "\n",
    "# Manhattan Distance\n",
    "def manhattan_distance(x1, y1, z1, x2, y2, z2):\n",
    "    return abs(x1 - x2) + abs(y1 - y2) + abs(z1 - z2)\n",
    "\n",
    "# Euclidean Distance\n",
    "def euclidean_distance(x1, y1, z1, x2, y2, z2):\n",
    "    return np.sqrt((x1 - x2)**2 + (y1 - y2)**2 + (z1 - z2)**2)\n",
    "\n",
    "# Example\n",
    "x1, y1, z1 = 1, 2, 3\n",
    "x2, y2, z2 = 6, 8, -10 # Outlier\n",
    "\n",
    "print(\"Manhattan Distance: \", manhattan_distance(x1, y1, z1, x2, y2, z2)) # Output: 20\n",
    "print(\"Euclidean Distance: \", euclidean_distance(x1, y1, z1, x2, y2, z2)) # Output: 14.142135623730951"
   ]
  },
  {
   "cell_type": "code",
   "execution_count": 2,
   "metadata": {},
   "outputs": [
    {
     "ename": "NameError",
     "evalue": "name 'treebank' is not defined",
     "output_type": "error",
     "traceback": [
      "\u001b[1;31m---------------------------------------------------------------------------\u001b[0m",
      "\u001b[1;31mNameError\u001b[0m                                 Traceback (most recent call last)",
      "\u001b[1;32m~\\AppData\\Local\\Temp\\ipykernel_36224\\1287576440.py\u001b[0m in \u001b[0;36m<cell line: 1>\u001b[1;34m()\u001b[0m\n\u001b[1;32m----> 1\u001b[1;33m \u001b[0mlen\u001b[0m\u001b[1;33m(\u001b[0m\u001b[0mtreebank\u001b[0m\u001b[1;33m.\u001b[0m\u001b[0msents\u001b[0m\u001b[1;33m(\u001b[0m\u001b[1;33m)\u001b[0m\u001b[1;33m)\u001b[0m\u001b[1;33m\u001b[0m\u001b[1;33m\u001b[0m\u001b[0m\n\u001b[0m",
      "\u001b[1;31mNameError\u001b[0m: name 'treebank' is not defined"
     ]
    }
   ],
   "source": [
    "len(treebank.sents())"
   ]
  },
  {
   "cell_type": "code",
   "execution_count": null,
   "metadata": {},
   "outputs": [],
   "source": [
    "from nltk.corpus import treebank\n",
    "\n",
    "train = treebank.sents()[:int(0.8*len(treebank.sents()))]\n",
    "dev = treebank.sents()[int(0.8*len(treebank.sents())):int(0.9*len(treebank.sents()))]\n",
    "test = treebank.sents()[int(0.9*len(treebank.sents())):]\n",
    "\n",
    "print(len(train))\n",
    "print(len(dev))\n",
    "print(len(test))"
   ]
  },
  {
   "cell_type": "code",
   "execution_count": null,
   "metadata": {},
   "outputs": [],
   "source": [
    "def preprocess(sent):\n",
    "    return [tok for tok in sent if not \"*\" in tok]\n",
    "\n",
    "train = [preprocess(s) for s in train]\n",
    "dev = [preprocess(s) for s in dev]\n",
    "test = [preprocess(s) for s in test]"
   ]
  },
  {
   "cell_type": "code",
   "execution_count": 3,
   "metadata": {},
   "outputs": [
    {
     "ename": "NameError",
     "evalue": "name 'train' is not defined",
     "output_type": "error",
     "traceback": [
      "\u001b[1;31m---------------------------------------------------------------------------\u001b[0m",
      "\u001b[1;31mNameError\u001b[0m                                 Traceback (most recent call last)",
      "\u001b[1;32m~\\AppData\\Local\\Temp\\ipykernel_36224\\2098543843.py\u001b[0m in \u001b[0;36m<cell line: 7>\u001b[1;34m()\u001b[0m\n\u001b[0;32m      5\u001b[0m \u001b[0mSTOP\u001b[0m\u001b[1;33m=\u001b[0m\u001b[1;34m\"</S>\"\u001b[0m\u001b[1;33m\u001b[0m\u001b[1;33m\u001b[0m\u001b[0m\n\u001b[0;32m      6\u001b[0m \u001b[1;33m\u001b[0m\u001b[0m\n\u001b[1;32m----> 7\u001b[1;33m \u001b[0mtrain_types\u001b[0m \u001b[1;33m=\u001b[0m \u001b[0mset\u001b[0m\u001b[1;33m(\u001b[0m\u001b[1;33m[\u001b[0m\u001b[0mtok\u001b[0m \u001b[1;32mfor\u001b[0m \u001b[0msent\u001b[0m \u001b[1;32min\u001b[0m \u001b[0mtrain\u001b[0m \u001b[1;32mfor\u001b[0m \u001b[0mtok\u001b[0m \u001b[1;32min\u001b[0m \u001b[0msent\u001b[0m\u001b[1;33m]\u001b[0m\u001b[1;33m)\u001b[0m\u001b[1;33m\u001b[0m\u001b[1;33m\u001b[0m\u001b[0m\n\u001b[0m\u001b[0;32m      8\u001b[0m \u001b[0mtrain_types\u001b[0m\u001b[1;33m.\u001b[0m\u001b[0madd\u001b[0m\u001b[1;33m(\u001b[0m\u001b[0mUNK\u001b[0m\u001b[1;33m)\u001b[0m\u001b[1;33m\u001b[0m\u001b[1;33m\u001b[0m\u001b[0m\n\u001b[0;32m      9\u001b[0m \u001b[0mtrain_types\u001b[0m\u001b[1;33m.\u001b[0m\u001b[0madd\u001b[0m\u001b[1;33m(\u001b[0m\u001b[0mSTART\u001b[0m\u001b[1;33m)\u001b[0m\u001b[1;33m\u001b[0m\u001b[1;33m\u001b[0m\u001b[0m\n",
      "\u001b[1;31mNameError\u001b[0m: name 'train' is not defined"
     ]
    }
   ],
   "source": [
    "\n",
    "from sklearn.preprocessing import LabelEncoder\n",
    "\n",
    "UNK=\"<UNK>\"\n",
    "START=\"<S>\"\n",
    "STOP=\"</S>\"\n",
    "\n",
    "train_types = set([tok for sent in train for tok in sent])\n",
    "train_types.add(UNK)\n",
    "train_types.add(START)\n",
    "train_types.add(STOP)\n",
    "\n",
    "word_enc = LabelEncoder()\n",
    "word_enc.fit(list(train_types))"
   ]
  },
  {
   "cell_type": "code",
   "execution_count": null,
   "metadata": {},
   "outputs": [],
   "source": [
    "def encode_sent(s):\n",
    "    s = [START] + [UNK if not tok in train_types else tok for tok in s] + [STOP]\n",
    "    return word_enc.transform(s)"
   ]
  },
  {
   "cell_type": "code",
   "execution_count": null,
   "metadata": {},
   "outputs": [],
   "source": [
    "import numpy as np\n",
    "\n",
    "count_w1_w2 = np.ones((len(train_types), len(train_types)))\n",
    "\n",
    "count_w1_w2"
   ]
  },
  {
   "cell_type": "code",
   "execution_count": null,
   "metadata": {},
   "outputs": [],
   "source": [
    "import numpy as np\n",
    "\n",
    "count_w1_w2 = np.ones((len(train_types), len(train_types)))"
   ]
  },
  {
   "cell_type": "code",
   "execution_count": null,
   "metadata": {},
   "outputs": [],
   "source": [
    "from nltk import bigrams\n",
    "\n",
    "def train_lm(data, count_w1_w2):\n",
    "    for s in train:\n",
    "        for w1, w2 in bigrams(encode_sent(s)):\n",
    "            count_w1_w2[w1,w2] += 1\n",
    "            \n",
    "    return count_w1_w2, count_w1_w2.sum(axis=1)"
   ]
  },
  {
   "cell_type": "code",
   "execution_count": null,
   "metadata": {},
   "outputs": [],
   "source": [
    "count_w1_w2, count_w1 = train_lm(train,count_w1_w2)"
   ]
  },
  {
   "cell_type": "code",
   "execution_count": null,
   "metadata": {},
   "outputs": [],
   "source": [
    "count_w1_w2.shape"
   ]
  },
  {
   "cell_type": "code",
   "execution_count": null,
   "metadata": {},
   "outputs": [],
   "source": [
    "count_w1"
   ]
  },
  {
   "cell_type": "code",
   "execution_count": null,
   "metadata": {},
   "outputs": [],
   "source": []
  },
  {
   "cell_type": "code",
   "execution_count": null,
   "metadata": {},
   "outputs": [],
   "source": []
  },
  {
   "cell_type": "code",
   "execution_count": null,
   "metadata": {},
   "outputs": [],
   "source": []
  },
  {
   "cell_type": "code",
   "execution_count": 17,
   "metadata": {},
   "outputs": [],
   "source": [
    "import numpy as np\n",
    "\n",
    "def cosine_distance(vec1, vec2):\n",
    "    dot_product = np.dot(vec1, vec2)\n",
    "    vec1 = np.linalg.norm(vec1)\n",
    "    vec2 = np.linalg.norm(vec2)\n",
    "    cosine_similarity = dot_product / (vec1 * vec2)\n",
    "    cosine_distance = 1 - cosine_similarity\n",
    "    return cosine_distance"
   ]
  },
  {
   "cell_type": "code",
   "execution_count": 21,
   "metadata": {},
   "outputs": [
    {
     "data": {
      "text/plain": [
       "0.021768023910962997"
      ]
     },
     "execution_count": 21,
     "metadata": {},
     "output_type": "execute_result"
    }
   ],
   "source": [
    "vec1 = np.array([1, 1, 3])\n",
    "vec2 = np.array([1, 1, 6])\n",
    "cosine_distance(vec1, vec2)"
   ]
  },
  {
   "cell_type": "code",
   "execution_count": 22,
   "metadata": {},
   "outputs": [],
   "source": [
    "from scipy.spatial.distance import cosine"
   ]
  },
  {
   "cell_type": "code",
   "execution_count": 23,
   "metadata": {},
   "outputs": [
    {
     "data": {
      "text/plain": [
       "0.021768023910962997"
      ]
     },
     "execution_count": 23,
     "metadata": {},
     "output_type": "execute_result"
    }
   ],
   "source": [
    "cosine(vec1, vec2)"
   ]
  },
  {
   "cell_type": "code",
   "execution_count": 141,
   "metadata": {},
   "outputs": [
    {
     "name": "stdout",
     "output_type": "stream",
     "text": [
      "['A', 'B', 'C', 'D'] 0.75\n",
      "['X', 'Y'] 0.75\n",
      "['M', 'N', 'P'] 0.75\n"
     ]
    },
    {
     "data": {
      "text/plain": [
       "['M', 'N', 'P', 'D']"
      ]
     },
     "execution_count": 141,
     "metadata": {},
     "output_type": "execute_result"
    }
   ],
   "source": [
    "def find_cluster_max_linkage(clusters, point):\n",
    "    max_distance = 0\n",
    "    chosen_cluster = None\n",
    "    for cluster in clusters:\n",
    "        max_point_distance = max([euclidean_distance(point[0], p) for p in cluster])\n",
    "        if max_point_distance > max_distance:\n",
    "            max_distance = max_point_distance\n",
    "            chosen_cluster = cluster\n",
    "    return chosen_cluster\n",
    "\n",
    "\n",
    "clusters = [[\"A\", \"B\", \"C\", \"D\"], [\"X\", \"Y\"], [\"M\", \"N\", \"P\"]]\n",
    "point = [\"D\"]\n",
    "linkage = \"average\"\n",
    "clusters = add_to_cluster(clusters, point, linkage)\n",
    "\n",
    "clusters"
   ]
  },
  {
   "cell_type": "code",
   "execution_count": 146,
   "metadata": {},
   "outputs": [],
   "source": [
    "import nltk\n",
    "def determine_cluster(clusters, point, linkage_criterion):\n",
    "    if linkage_criterion == \"max\":\n",
    "        max_distance = -1\n",
    "        cluster_to_add = None\n",
    "        for i, cluster in enumerate(clusters):\n",
    "            cluster_distance = -1\n",
    "            for p in cluster:\n",
    "                #calculating levenshtein distance between point and each point in cluster\n",
    "                distance = nltk.edit_distance(point, p)\n",
    "                if distance > cluster_distance:\n",
    "                    cluster_distance = distance\n",
    "            if cluster_distance > max_distance:\n",
    "                max_distance = cluster_distance\n",
    "                cluster_to_add = i\n",
    "        return cluster_to_add\n",
    "    \n",
    "clusters = [['A', 'B', 'C'], ['X', 'Y'], ['M', 'N', 'P']]\n",
    "point = \"R\"\n",
    "linkage_criterion = \"max\"\n",
    "\n",
    "cluster_index = determine_cluster(clusters, point, linkage_criterion)\n",
    "clusters[cluster_index].append(point)\n"
   ]
  },
  {
   "cell_type": "code",
   "execution_count": 147,
   "metadata": {},
   "outputs": [
    {
     "data": {
      "text/plain": [
       "[['A', 'B', 'C', 'R'], ['X', 'Y'], ['M', 'N', 'P']]"
      ]
     },
     "execution_count": 147,
     "metadata": {},
     "output_type": "execute_result"
    }
   ],
   "source": [
    "clusters"
   ]
  },
  {
   "cell_type": "code",
   "execution_count": 90,
   "metadata": {},
   "outputs": [],
   "source": [
    "import numpy as np\n",
    "from sklearn.preprocessing import LabelEncoder\n",
    "\n",
    "UNK=\"<UNK>\"\n",
    "START=\"<S>\"\n",
    "STOP=\"</S>\"\n",
    "\n",
    "train_types = set([tok for sent in train for tok in sent])\n",
    "train_types.add(UNK)\n",
    "train_types.add(START)\n",
    "train_types.add(STOP)\n",
    "\n",
    "def train_lm(data, alpha):\n",
    "    #count_w1_w2_w3 = np.ones((len(train_types), len(train_types), len(train_types))) * alpha\n",
    "\n",
    "    print((len(train_types), len(train_types), len(train_types)))\n"
   ]
  },
  {
   "cell_type": "code",
   "execution_count": 95,
   "metadata": {},
   "outputs": [],
   "source": [
    "from nltk.corpus import treebank\n",
    "\n",
    "train = treebank.sents()[:int(0.8*len(treebank.sents()))]\n",
    "dev = treebank.sents()[int(0.8*len(treebank.sents())):int(0.9*len(treebank.sents()))]\n",
    "test = treebank.sents()[int(0.9*len(treebank.sents())):]\n",
    "\n",
    "def preprocess(sent):\n",
    "    return [tok for tok in sent if not \"*\" in tok]\n",
    "\n",
    "train = [preprocess(s) for s in train[:11]]\n",
    "dev = [preprocess(s) for s in dev[:1]]\n",
    "test = [preprocess(s) for s in test[:1]]"
   ]
  },
  {
   "cell_type": "code",
   "execution_count": 96,
   "metadata": {},
   "outputs": [
    {
     "name": "stdout",
     "output_type": "stream",
     "text": [
      "11\n"
     ]
    }
   ],
   "source": [
    "print(len(train))"
   ]
  },
  {
   "cell_type": "code",
   "execution_count": 92,
   "metadata": {},
   "outputs": [
    {
     "name": "stdout",
     "output_type": "stream",
     "text": [
      "(10608, 10608, 10608)\n",
      "(10608, 10608, 10608)\n",
      "(10608, 10608, 10608)\n"
     ]
    }
   ],
   "source": [
    "alpha = 0.1\n",
    "prob_w1_w2_w3 = train_lm(train, alpha)\n",
    "\n",
    "prob_w1_w2_w3_dev = train_lm(dev, alpha)\n",
    "prob_w1_w2_w3_test = train_lm(test, alpha)"
   ]
  },
  {
   "cell_type": "code",
   "execution_count": 93,
   "metadata": {},
   "outputs": [],
   "source": [
    "prob_w1_w2_w3_test"
   ]
  },
  {
   "cell_type": "code",
   "execution_count": null,
   "metadata": {},
   "outputs": [],
   "source": []
  }
 ],
 "metadata": {
  "kernelspec": {
   "display_name": "Python 3 (ipykernel)",
   "language": "python",
   "name": "python3"
  },
  "language_info": {
   "codemirror_mode": {
    "name": "ipython",
    "version": 3
   },
   "file_extension": ".py",
   "mimetype": "text/x-python",
   "name": "python",
   "nbconvert_exporter": "python",
   "pygments_lexer": "ipython3",
   "version": "3.9.15"
  }
 },
 "nbformat": 4,
 "nbformat_minor": 2
}
