{
 "cells": [
  {
   "cell_type": "code",
   "execution_count": 60,
   "metadata": {},
   "outputs": [
    {
     "name": "stdout",
     "output_type": "stream",
     "text": [
      "Manhattan Distance:  24\n",
      "Euclidean Distance:  15.165750888103101\n"
     ]
    }
   ],
   "source": [
    "# your code here\n",
    "import numpy as np\n",
    "\n",
    "# Manhattan Distance\n",
    "def manhattan_distance(x1, y1, z1, x2, y2, z2):\n",
    "    return abs(x1 - x2) + abs(y1 - y2) + abs(z1 - z2)\n",
    "\n",
    "# Euclidean Distance\n",
    "def euclidean_distance(x1, y1, z1, x2, y2, z2):\n",
    "    return np.sqrt((x1 - x2)**2 + (y1 - y2)**2 + (z1 - z2)**2)\n",
    "\n",
    "# Example\n",
    "x1, y1, z1 = 1, 2, 3\n",
    "x2, y2, z2 = 6, 8, -10 # Outlier\n",
    "\n",
    "print(\"Manhattan Distance: \", manhattan_distance(x1, y1, z1, x2, y2, z2)) # Output: 20\n",
    "print(\"Euclidean Distance: \", euclidean_distance(x1, y1, z1, x2, y2, z2)) # Output: 14.142135623730951"
   ]
  },
  {
   "cell_type": "code",
   "execution_count": 61,
   "metadata": {},
   "outputs": [
    {
     "name": "stdout",
     "output_type": "stream",
     "text": [
      "3131\n",
      "391\n",
      "392\n"
     ]
    }
   ],
   "source": [
    "from nltk.corpus import treebank\n",
    "\n",
    "train = treebank.sents()[:int(0.8*len(treebank.sents()))]\n",
    "dev = treebank.sents()[int(0.8*len(treebank.sents())):int(0.9*len(treebank.sents()))]\n",
    "test = treebank.sents()[int(0.9*len(treebank.sents())):]\n",
    "\n",
    "print(len(train))\n",
    "print(len(dev))\n",
    "print(len(test))"
   ]
  },
  {
   "cell_type": "code",
   "execution_count": 62,
   "metadata": {},
   "outputs": [],
   "source": [
    "def preprocess(sent):\n",
    "    return [tok for tok in sent if not \"*\" in tok]\n",
    "\n",
    "train = [preprocess(s) for s in train]\n",
    "dev = [preprocess(s) for s in dev]\n",
    "test = [preprocess(s) for s in test]"
   ]
  },
  {
   "cell_type": "code",
   "execution_count": 63,
   "metadata": {},
   "outputs": [
    {
     "data": {
      "text/html": [
       "<style>#sk-container-id-2 {color: black;background-color: white;}#sk-container-id-2 pre{padding: 0;}#sk-container-id-2 div.sk-toggleable {background-color: white;}#sk-container-id-2 label.sk-toggleable__label {cursor: pointer;display: block;width: 100%;margin-bottom: 0;padding: 0.3em;box-sizing: border-box;text-align: center;}#sk-container-id-2 label.sk-toggleable__label-arrow:before {content: \"▸\";float: left;margin-right: 0.25em;color: #696969;}#sk-container-id-2 label.sk-toggleable__label-arrow:hover:before {color: black;}#sk-container-id-2 div.sk-estimator:hover label.sk-toggleable__label-arrow:before {color: black;}#sk-container-id-2 div.sk-toggleable__content {max-height: 0;max-width: 0;overflow: hidden;text-align: left;background-color: #f0f8ff;}#sk-container-id-2 div.sk-toggleable__content pre {margin: 0.2em;color: black;border-radius: 0.25em;background-color: #f0f8ff;}#sk-container-id-2 input.sk-toggleable__control:checked~div.sk-toggleable__content {max-height: 200px;max-width: 100%;overflow: auto;}#sk-container-id-2 input.sk-toggleable__control:checked~label.sk-toggleable__label-arrow:before {content: \"▾\";}#sk-container-id-2 div.sk-estimator input.sk-toggleable__control:checked~label.sk-toggleable__label {background-color: #d4ebff;}#sk-container-id-2 div.sk-label input.sk-toggleable__control:checked~label.sk-toggleable__label {background-color: #d4ebff;}#sk-container-id-2 input.sk-hidden--visually {border: 0;clip: rect(1px 1px 1px 1px);clip: rect(1px, 1px, 1px, 1px);height: 1px;margin: -1px;overflow: hidden;padding: 0;position: absolute;width: 1px;}#sk-container-id-2 div.sk-estimator {font-family: monospace;background-color: #f0f8ff;border: 1px dotted black;border-radius: 0.25em;box-sizing: border-box;margin-bottom: 0.5em;}#sk-container-id-2 div.sk-estimator:hover {background-color: #d4ebff;}#sk-container-id-2 div.sk-parallel-item::after {content: \"\";width: 100%;border-bottom: 1px solid gray;flex-grow: 1;}#sk-container-id-2 div.sk-label:hover label.sk-toggleable__label {background-color: #d4ebff;}#sk-container-id-2 div.sk-serial::before {content: \"\";position: absolute;border-left: 1px solid gray;box-sizing: border-box;top: 0;bottom: 0;left: 50%;z-index: 0;}#sk-container-id-2 div.sk-serial {display: flex;flex-direction: column;align-items: center;background-color: white;padding-right: 0.2em;padding-left: 0.2em;position: relative;}#sk-container-id-2 div.sk-item {position: relative;z-index: 1;}#sk-container-id-2 div.sk-parallel {display: flex;align-items: stretch;justify-content: center;background-color: white;position: relative;}#sk-container-id-2 div.sk-item::before, #sk-container-id-2 div.sk-parallel-item::before {content: \"\";position: absolute;border-left: 1px solid gray;box-sizing: border-box;top: 0;bottom: 0;left: 50%;z-index: -1;}#sk-container-id-2 div.sk-parallel-item {display: flex;flex-direction: column;z-index: 1;position: relative;background-color: white;}#sk-container-id-2 div.sk-parallel-item:first-child::after {align-self: flex-end;width: 50%;}#sk-container-id-2 div.sk-parallel-item:last-child::after {align-self: flex-start;width: 50%;}#sk-container-id-2 div.sk-parallel-item:only-child::after {width: 0;}#sk-container-id-2 div.sk-dashed-wrapped {border: 1px dashed gray;margin: 0 0.4em 0.5em 0.4em;box-sizing: border-box;padding-bottom: 0.4em;background-color: white;}#sk-container-id-2 div.sk-label label {font-family: monospace;font-weight: bold;display: inline-block;line-height: 1.2em;}#sk-container-id-2 div.sk-label-container {text-align: center;}#sk-container-id-2 div.sk-container {/* jupyter's `normalize.less` sets `[hidden] { display: none; }` but bootstrap.min.css set `[hidden] { display: none !important; }` so we also need the `!important` here to be able to override the default hidden behavior on the sphinx rendered scikit-learn.org. See: https://github.com/scikit-learn/scikit-learn/issues/21755 */display: inline-block !important;position: relative;}#sk-container-id-2 div.sk-text-repr-fallback {display: none;}</style><div id=\"sk-container-id-2\" class=\"sk-top-container\"><div class=\"sk-text-repr-fallback\"><pre>LabelEncoder()</pre><b>In a Jupyter environment, please rerun this cell to show the HTML representation or trust the notebook. <br />On GitHub, the HTML representation is unable to render, please try loading this page with nbviewer.org.</b></div><div class=\"sk-container\" hidden><div class=\"sk-item\"><div class=\"sk-estimator sk-toggleable\"><input class=\"sk-toggleable__control sk-hidden--visually\" id=\"sk-estimator-id-2\" type=\"checkbox\" checked><label for=\"sk-estimator-id-2\" class=\"sk-toggleable__label sk-toggleable__label-arrow\">LabelEncoder</label><div class=\"sk-toggleable__content\"><pre>LabelEncoder()</pre></div></div></div></div></div>"
      ],
      "text/plain": [
       "LabelEncoder()"
      ]
     },
     "execution_count": 63,
     "metadata": {},
     "output_type": "execute_result"
    }
   ],
   "source": [
    "\n",
    "from sklearn.preprocessing import LabelEncoder\n",
    "\n",
    "UNK=\"<UNK>\"\n",
    "START=\"<S>\"\n",
    "STOP=\"</S>\"\n",
    "\n",
    "train_types = set([tok for sent in train for tok in sent])\n",
    "train_types.add(UNK)\n",
    "train_types.add(START)\n",
    "train_types.add(STOP)\n",
    "\n",
    "word_enc = LabelEncoder()\n",
    "word_enc.fit(list(train_types))"
   ]
  },
  {
   "cell_type": "code",
   "execution_count": 64,
   "metadata": {},
   "outputs": [],
   "source": [
    "def encode_sent(s):\n",
    "    s = [START] + [UNK if not tok in train_types else tok for tok in s] + [STOP]\n",
    "    return word_enc.transform(s)"
   ]
  },
  {
   "cell_type": "code",
   "execution_count": 65,
   "metadata": {},
   "outputs": [
    {
     "data": {
      "text/plain": [
       "array([[1., 1., 1., ..., 1., 1., 1.],\n",
       "       [1., 1., 1., ..., 1., 1., 1.],\n",
       "       [1., 1., 1., ..., 1., 1., 1.],\n",
       "       ...,\n",
       "       [1., 1., 1., ..., 1., 1., 1.],\n",
       "       [1., 1., 1., ..., 1., 1., 1.],\n",
       "       [1., 1., 1., ..., 1., 1., 1.]])"
      ]
     },
     "execution_count": 65,
     "metadata": {},
     "output_type": "execute_result"
    }
   ],
   "source": [
    "import numpy as np\n",
    "\n",
    "count_w1_w2 = np.ones((len(train_types), len(train_types)))\n",
    "\n",
    "count_w1_w2"
   ]
  },
  {
   "cell_type": "code",
   "execution_count": 66,
   "metadata": {},
   "outputs": [],
   "source": [
    "import numpy as np\n",
    "\n",
    "count_w1_w2 = np.ones((len(train_types), len(train_types)))"
   ]
  },
  {
   "cell_type": "code",
   "execution_count": 67,
   "metadata": {},
   "outputs": [],
   "source": [
    "from nltk import bigrams\n",
    "\n",
    "def train_lm(data, count_w1_w2):\n",
    "    for s in train:\n",
    "        for w1, w2 in bigrams(encode_sent(s)):\n",
    "            count_w1_w2[w1,w2] += 1\n",
    "            \n",
    "    return count_w1_w2, count_w1_w2.sum(axis=1)"
   ]
  },
  {
   "cell_type": "code",
   "execution_count": 68,
   "metadata": {},
   "outputs": [],
   "source": [
    "count_w1_w2, count_w1 = train_lm(train,count_w1_w2)"
   ]
  },
  {
   "cell_type": "code",
   "execution_count": 69,
   "metadata": {},
   "outputs": [
    {
     "data": {
      "text/plain": [
       "(10608, 10608)"
      ]
     },
     "execution_count": 69,
     "metadata": {},
     "output_type": "execute_result"
    }
   ],
   "source": [
    "count_w1_w2.shape"
   ]
  },
  {
   "cell_type": "code",
   "execution_count": 70,
   "metadata": {},
   "outputs": [
    {
     "data": {
      "text/plain": [
       "array([10614., 10622., 11085., ..., 10609., 10610., 10609.])"
      ]
     },
     "execution_count": 70,
     "metadata": {},
     "output_type": "execute_result"
    }
   ],
   "source": [
    "count_w1"
   ]
  },
  {
   "cell_type": "code",
   "execution_count": null,
   "metadata": {},
   "outputs": [],
   "source": []
  },
  {
   "cell_type": "code",
   "execution_count": null,
   "metadata": {},
   "outputs": [],
   "source": []
  },
  {
   "cell_type": "code",
   "execution_count": null,
   "metadata": {},
   "outputs": [],
   "source": []
  },
  {
   "cell_type": "code",
   "execution_count": 71,
   "metadata": {},
   "outputs": [],
   "source": [
    "import numpy as np\n",
    "\n",
    "def cosine_distance(vec1, vec2):\n",
    "    dot_product = np.dot(vec1, vec2)\n",
    "    vec1 = np.linalg.norm(vec1)\n",
    "    vec2 = np.linalg.norm(vec2)\n",
    "    cosine_similarity = dot_product / (vec1 * vec2)\n",
    "    cosine_distance = 1 - cosine_similarity\n",
    "    return cosine_distance"
   ]
  },
  {
   "cell_type": "code",
   "execution_count": 72,
   "metadata": {},
   "outputs": [
    {
     "data": {
      "text/plain": [
       "0.021768023910962997"
      ]
     },
     "execution_count": 72,
     "metadata": {},
     "output_type": "execute_result"
    }
   ],
   "source": [
    "vec1 = np.array([1, 1, 3])\n",
    "vec2 = np.array([1, 1, 6])\n",
    "cosine_distance(vec1, vec2)"
   ]
  },
  {
   "cell_type": "code",
   "execution_count": 73,
   "metadata": {},
   "outputs": [],
   "source": [
    "from scipy.spatial.distance import cosine"
   ]
  },
  {
   "cell_type": "code",
   "execution_count": 74,
   "metadata": {},
   "outputs": [
    {
     "data": {
      "text/plain": [
       "0.021768023910962997"
      ]
     },
     "execution_count": 74,
     "metadata": {},
     "output_type": "execute_result"
    }
   ],
   "source": [
    "cosine(vec1, vec2)"
   ]
  },
  {
   "cell_type": "code",
   "execution_count": 76,
   "metadata": {},
   "outputs": [],
   "source": [
    "# def find_cluster_max_linkage(clusters, point):\n",
    "#     max_distance = 0\n",
    "#     chosen_cluster = None\n",
    "#     for cluster in clusters:\n",
    "#         max_point_distance = max([euclidean_distance(point[0], p) for p in cluster])\n",
    "#         if max_point_distance > max_distance:\n",
    "#             max_distance = max_point_distance\n",
    "#             chosen_cluster = cluster\n",
    "#     return chosen_cluster\n",
    "\n",
    "\n",
    "# clusters = [[\"A\", \"B\", \"C\", \"D\"], [\"X\", \"Y\"], [\"M\", \"N\", \"P\"]]\n",
    "# point = [\"D\"]\n",
    "# linkage = \"average\"\n",
    "# clusters = add_to_cluster(clusters, point, linkage)\n",
    "\n",
    "# clusters"
   ]
  },
  {
   "cell_type": "code",
   "execution_count": 77,
   "metadata": {},
   "outputs": [],
   "source": [
    "import nltk\n",
    "def determine_cluster(clusters, point, linkage_criterion):\n",
    "    if linkage_criterion == \"max\":\n",
    "        max_distance = -1\n",
    "        cluster_to_add = None\n",
    "        for i, cluster in enumerate(clusters):\n",
    "            cluster_distance = -1\n",
    "            for p in cluster:\n",
    "                #calculating levenshtein distance between point and each point in cluster\n",
    "                distance = nltk.edit_distance(point, p)\n",
    "                if distance > cluster_distance:\n",
    "                    cluster_distance = distance\n",
    "            if cluster_distance > max_distance:\n",
    "                max_distance = cluster_distance\n",
    "                cluster_to_add = i\n",
    "        return cluster_to_add\n",
    "    \n",
    "clusters = [['A', 'B', 'C'], ['X', 'Y'], ['M', 'N', 'P']]\n",
    "point = \"R\"\n",
    "linkage_criterion = \"max\"\n",
    "\n",
    "cluster_index = determine_cluster(clusters, point, linkage_criterion)\n",
    "clusters[cluster_index].append(point)\n"
   ]
  },
  {
   "cell_type": "code",
   "execution_count": 78,
   "metadata": {},
   "outputs": [
    {
     "data": {
      "text/plain": [
       "[['A', 'B', 'C', 'R'], ['X', 'Y'], ['M', 'N', 'P']]"
      ]
     },
     "execution_count": 78,
     "metadata": {},
     "output_type": "execute_result"
    }
   ],
   "source": [
    "clusters"
   ]
  },
  {
   "cell_type": "code",
   "execution_count": 79,
   "metadata": {},
   "outputs": [],
   "source": [
    "# import numpy as np\n",
    "# from sklearn.preprocessing import LabelEncoder\n",
    "\n",
    "# UNK=\"<UNK>\"\n",
    "# START=\"<S>\"\n",
    "# STOP=\"</S>\"\n",
    "\n",
    "# train_types = set([tok for sent in train for tok in sent])\n",
    "# train_types.add(UNK)\n",
    "# train_types.add(START)\n",
    "# train_types.add(STOP)\n",
    "\n",
    "# def train_lm(data, alpha):\n",
    "#     #count_w1_w2_w3 = np.ones((len(train_types), len(train_types), len(train_types))) * alpha\n",
    "\n",
    "#     print((len(train_types), len(train_types), len(train_types)))\n"
   ]
  },
  {
   "cell_type": "code",
   "execution_count": null,
   "metadata": {},
   "outputs": [],
   "source": []
  },
  {
   "cell_type": "code",
   "execution_count": null,
   "metadata": {},
   "outputs": [],
   "source": []
  },
  {
   "cell_type": "code",
   "execution_count": null,
   "metadata": {},
   "outputs": [],
   "source": []
  },
  {
   "cell_type": "code",
   "execution_count": null,
   "metadata": {},
   "outputs": [],
   "source": []
  },
  {
   "cell_type": "code",
   "execution_count": null,
   "metadata": {},
   "outputs": [],
   "source": []
  },
  {
   "cell_type": "code",
   "execution_count": 80,
   "metadata": {},
   "outputs": [],
   "source": [
    "# from nltk.corpus import treebank\n",
    "\n",
    "# train = treebank.sents()[:int(0.8*len(treebank.sents()))]\n",
    "# dev = treebank.sents()[int(0.8*len(treebank.sents())):int(0.9*len(treebank.sents()))]\n",
    "# test = treebank.sents()[int(0.9*len(treebank.sents())):]\n",
    "\n",
    "# def preprocess(sent):\n",
    "#     return [tok for tok in sent if not \"*\" in tok]\n",
    "\n",
    "# train = [preprocess(s) for s in train[:11]]\n",
    "# dev = [preprocess(s) for s in dev[:1]]\n",
    "# test = [preprocess(s) for s in test[:1]]"
   ]
  },
  {
   "cell_type": "code",
   "execution_count": 81,
   "metadata": {},
   "outputs": [
    {
     "name": "stdout",
     "output_type": "stream",
     "text": [
      "3131\n"
     ]
    }
   ],
   "source": [
    "print(len(train))"
   ]
  },
  {
   "cell_type": "code",
   "execution_count": 82,
   "metadata": {},
   "outputs": [],
   "source": [
    "# alpha = 0.1\n",
    "# prob_w1_w2_w3 = train_lm(train, alpha)\n",
    "\n",
    "# prob_w1_w2_w3_dev = train_lm(dev, alpha)\n",
    "# prob_w1_w2_w3_test = train_lm(test, alpha)"
   ]
  },
  {
   "cell_type": "code",
   "execution_count": 83,
   "metadata": {},
   "outputs": [],
   "source": [
    "# prob_w1_w2_w3_test"
   ]
  },
  {
   "cell_type": "code",
   "execution_count": null,
   "metadata": {},
   "outputs": [],
   "source": []
  },
  {
   "cell_type": "code",
   "execution_count": null,
   "metadata": {},
   "outputs": [],
   "source": []
  },
  {
   "cell_type": "code",
   "execution_count": 84,
   "metadata": {},
   "outputs": [
    {
     "name": "stdout",
     "output_type": "stream",
     "text": [
      "------------ [[11 39]\n",
      " [10 25]]\n",
      "============ [[11 39]\n",
      " [10 25]]\n",
      "True\n"
     ]
    }
   ],
   "source": [
    "import numpy as np\n",
    "\n",
    "def confirm_sum_product(mat1, mat2):\n",
    "    product = np.dot(mat1, mat2)\n",
    "    \n",
    "    print(\"------------\", product)\n",
    "    sum_of_rank1_matrices = np.outer(mat1[:,0], mat2[0,:])\n",
    "    for i in range(1, mat1.shape[1]):\n",
    "        sum_of_rank1_matrices += np.outer(mat1[:,i], mat2[i,:])\n",
    "        \n",
    "    print(\"============\", sum_of_rank1_matrices)\n",
    "    return np.array_equal(product, sum_of_rank1_matrices)\n",
    "\n",
    "\n",
    "mat1 = np.array([[1, 9], [3, 4]])\n",
    "mat2 = np.array([[2, 3], [1, 4]])\n",
    "\n",
    "result = confirm_sum_product(mat1, mat2)\n",
    "print(result) # False\n",
    "\n"
   ]
  },
  {
   "cell_type": "code",
   "execution_count": 85,
   "metadata": {},
   "outputs": [
    {
     "name": "stdout",
     "output_type": "stream",
     "text": [
      "[[11. 39.]\n",
      " [10. 25.]]\n"
     ]
    }
   ],
   "source": [
    "def rank1_matrices_sum(mat1, mat2):\n",
    "    sum_of_rank1_matrices = np.zeros(mat1.shape)\n",
    "    for i in range(mat1.shape[1]):\n",
    "        sum_of_rank1_matrices += np.outer(mat1[:,i], mat2[i,:])\n",
    "    return sum_of_rank1_matrices\n",
    "\n",
    "\n",
    "mat1 = np.array([[1, 9], [3, 4]])\n",
    "mat2 = np.array([[2, 3], [1, 4]])\n",
    "\n",
    "result = rank1_matrices_sum(mat1, mat2)\n",
    "print(result) # False"
   ]
  },
  {
   "cell_type": "code",
   "execution_count": 86,
   "metadata": {},
   "outputs": [
    {
     "name": "stdout",
     "output_type": "stream",
     "text": [
      "0.31\n"
     ]
    }
   ],
   "source": [
    "#6\n",
    "\n",
    "import numpy as np\n",
    "\n",
    "def calculate_doc_prob(doc_beta, theta):\n",
    "    # Ensure the input arrays have the correct shapes\n",
    "    doc_beta = np.asarray(doc_beta)\n",
    "    theta = np.asarray(theta)\n",
    "    if doc_beta.ndim != 1 or theta.ndim != 1:\n",
    "        raise ValueError(\"Input arrays should be 1-D arrays\")\n",
    "    if doc_beta.shape[0] != theta.shape[0]:\n",
    "        raise ValueError(\"Input arrays should have the same length\")\n",
    "    \n",
    "    # Ensure the Beta and Theta distributions sum to 1\n",
    "    if not np.isclose(np.sum(doc_beta), 1.0) or not np.isclose(np.sum(theta), 1.0):\n",
    "        raise ValueError(\"Beta and Theta distributions should sum to 1\")\n",
    "    \n",
    "    # Calculate the probability of the document given the Beta and Theta distributions\n",
    "    return np.dot(doc_beta, theta)\n",
    "\n",
    "\n",
    "doc_beta = np.array([0.3, 0.2, 0.5])\n",
    "theta = np.array([0.5, 0.3, 0.2])\n",
    "\n",
    "prob = calculate_doc_prob(doc_beta, theta)\n",
    "print(prob) # 0.33\n"
   ]
  },
  {
   "cell_type": "code",
   "execution_count": null,
   "metadata": {},
   "outputs": [],
   "source": []
  },
  {
   "cell_type": "code",
   "execution_count": null,
   "metadata": {},
   "outputs": [],
   "source": []
  },
  {
   "cell_type": "code",
   "execution_count": null,
   "metadata": {},
   "outputs": [],
   "source": []
  },
  {
   "cell_type": "code",
   "execution_count": null,
   "metadata": {},
   "outputs": [],
   "source": []
  },
  {
   "cell_type": "code",
   "execution_count": null,
   "metadata": {},
   "outputs": [],
   "source": []
  },
  {
   "cell_type": "code",
   "execution_count": null,
   "metadata": {},
   "outputs": [],
   "source": []
  },
  {
   "cell_type": "code",
   "execution_count": null,
   "metadata": {},
   "outputs": [],
   "source": []
  },
  {
   "cell_type": "code",
   "execution_count": null,
   "metadata": {},
   "outputs": [],
   "source": []
  },
  {
   "cell_type": "code",
   "execution_count": null,
   "metadata": {},
   "outputs": [],
   "source": []
  },
  {
   "cell_type": "code",
   "execution_count": null,
   "metadata": {},
   "outputs": [],
   "source": []
  },
  {
   "cell_type": "code",
   "execution_count": null,
   "metadata": {},
   "outputs": [],
   "source": []
  },
  {
   "cell_type": "code",
   "execution_count": null,
   "metadata": {},
   "outputs": [],
   "source": []
  },
  {
   "cell_type": "code",
   "execution_count": null,
   "metadata": {},
   "outputs": [],
   "source": []
  },
  {
   "cell_type": "code",
   "execution_count": null,
   "metadata": {},
   "outputs": [],
   "source": []
  }
 ],
 "metadata": {
  "kernelspec": {
   "display_name": "Python 3 (ipykernel)",
   "language": "python",
   "name": "python3"
  },
  "language_info": {
   "codemirror_mode": {
    "name": "ipython",
    "version": 3
   },
   "file_extension": ".py",
   "mimetype": "text/x-python",
   "name": "python",
   "nbconvert_exporter": "python",
   "pygments_lexer": "ipython3",
   "version": "3.9.15"
  }
 },
 "nbformat": 4,
 "nbformat_minor": 2
}
