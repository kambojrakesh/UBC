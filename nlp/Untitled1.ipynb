{
 "cells": [
  {
   "cell_type": "code",
   "execution_count": 29,
   "id": "36d2f9e0",
   "metadata": {},
   "outputs": [],
   "source": [
    "import gensim\n",
    "from sklearn.decomposition import TruncatedSVD\n",
    "from scipy.spatial.distance import cosine\n",
    "\n",
    "def find_best_k(word2vec_model, analogies, k_start, k_end):\n",
    "    best_k = 0\n",
    "    max_correct = 0\n",
    "    \n",
    "    for k in range(k_start, k_end+1):\n",
    "        #print(k, \"-------------\")\n",
    "        svd = TruncatedSVD(n_components=k)\n",
    "        reduced_vectors = svd.fit_transform(word2vec_model.vectors)\n",
    "        \n",
    "        correct = 0\n",
    "        for analogy in analogies:\n",
    "            #print(analogy, \"-------------\")\n",
    "            word1, word2, word3, expected = analogy\n",
    "            word1_index = word2vec_model.key_to_index.get(word1, None)\n",
    "            word2_index = word2vec_model.key_to_index.get(word2, None)\n",
    "            word3_index = word2vec_model.key_to_index.get(word3, None)\n",
    "            \n",
    "            if word1_index is None or word2_index is None or word3_index is None:\n",
    "                continue\n",
    "                \n",
    "            word1_vec = reduced_vectors[word1_index]\n",
    "            word2_vec = reduced_vectors[word2_index]\n",
    "            word3_vec = reduced_vectors[word3_index]\n",
    "            \n",
    "            word4_vec = word3_vec - word2_vec + word1_vec\n",
    "            closest_index = cosine_similarity(word4_vec.reshape(1, -1), reduced_vectors).argmax()\n",
    "            closest_word = word2vec_model.index_to_key[closest_index]\n",
    "            \n",
    "            if closest_word == expected:\n",
    "                correct += 1\n",
    "        \n",
    "    \n",
    "        if correct > max_correct:\n",
    "            max_correct = correct\n",
    "            best_k = k\n",
    "            \n",
    "    return best_k\n"
   ]
  },
  {
   "cell_type": "code",
   "execution_count": 30,
   "id": "0448c94d",
   "metadata": {},
   "outputs": [],
   "source": [
    "import gensim\n",
    "from nltk.data import find\n",
    "word2vec_sample = str(find('models/word2vec_sample/pruned.word2vec.txt'))\n",
    "word2vec_model = gensim.models.KeyedVectors.load_word2vec_format(word2vec_sample, binary=False)"
   ]
  },
  {
   "cell_type": "code",
   "execution_count": 31,
   "id": "319e86bb",
   "metadata": {},
   "outputs": [
    {
     "name": "stdout",
     "output_type": "stream",
     "text": [
      "0\n"
     ]
    }
   ],
   "source": [
    "analogies = [('ATHENS', 'GREECE', 'BANGKOK', 'China'),  ('ATHENS', 'GREECE', 'BERLIN', 'GERMANY'),   ('ATHENS', 'GREECE', 'BERN', 'SWITZERLAND')]\n",
    "best_k = find_best_k(word2vec_model, analogies, 10, 50)\n",
    "print(best_k)\n"
   ]
  },
  {
   "cell_type": "code",
   "execution_count": 34,
   "id": "1f5340cb",
   "metadata": {},
   "outputs": [],
   "source": [
    "import torch\n",
    "\n",
    "batch = [[\"the\", \"dog\", \"sleeps\"], [\"we\", \"laughed\"], [\"it\", \"rained\", \"all\", \"day\"]]\n",
    "word2id = {\"<PAD>\": 0, \"<START>\": 1, \"<END>\": 2, \"the\":3, \"dog\":4, \"sleeps\":5, \"we\":6, \"laughed\":7, \"it\": 8, \"rained\":9, \"all\":10, \"day\":11}\n",
    "\n",
    "bid = [[word2id[w] for w in s] for s in batch]\n",
    "\n",
    "mlen = max([len(s) for s in bid])\n",
    "\n",
    "# pad all sentences\n",
    "bid = [s + [0] * (mlen - len(s)) for s in bid]\n",
    "\n",
    "# add <START> and <END> tokens to each sentence\n",
    "bid = [[1] + s + [2] for s in bid]\n",
    "\n",
    "btensor = torch.tensor(bid, dtype=torch.long)"
   ]
  },
  {
   "cell_type": "code",
   "execution_count": 36,
   "id": "f30f7a64",
   "metadata": {},
   "outputs": [
    {
     "data": {
      "text/plain": [
       "tensor([[ 1,  3,  4,  5,  0,  2],\n",
       "        [ 1,  6,  7,  0,  0,  2],\n",
       "        [ 1,  8,  9, 10, 11,  2]])"
      ]
     },
     "execution_count": 36,
     "metadata": {},
     "output_type": "execute_result"
    }
   ],
   "source": [
    "btensor"
   ]
  },
  {
   "cell_type": "code",
   "execution_count": null,
   "id": "1a84002a",
   "metadata": {},
   "outputs": [],
   "source": []
  }
 ],
 "metadata": {
  "kernelspec": {
   "display_name": "Python 3 (ipykernel)",
   "language": "python",
   "name": "python3"
  },
  "language_info": {
   "codemirror_mode": {
    "name": "ipython",
    "version": 3
   },
   "file_extension": ".py",
   "mimetype": "text/x-python",
   "name": "python",
   "nbconvert_exporter": "python",
   "pygments_lexer": "ipython3",
   "version": "3.9.15"
  }
 },
 "nbformat": 4,
 "nbformat_minor": 5
}
