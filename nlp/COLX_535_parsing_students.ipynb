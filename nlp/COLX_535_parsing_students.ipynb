{
 "cells": [
  {
   "cell_type": "code",
   "execution_count": 57,
   "metadata": {},
   "outputs": [
    {
     "data": {
      "image/svg+xml": [
       "<svg baseProfile=\"full\" height=\"120px\" preserveAspectRatio=\"xMidYMid meet\" style=\"font-family: times, serif; font-weight:normal; font-style: normal; font-size: 16px;\" version=\"1.1\" viewBox=\"0,0,232.0,120.0\" width=\"232px\" xmlns=\"http://www.w3.org/2000/svg\" xmlns:ev=\"http://www.w3.org/2001/xml-events\" xmlns:xlink=\"http://www.w3.org/1999/xlink\"><defs /><svg width=\"100%\" x=\"0\" y=\"0em\"><defs /><text text-anchor=\"middle\" x=\"50%\" y=\"1em\">S</text></svg><svg width=\"34.4828%\" x=\"0%\" y=\"3em\"><defs /><svg width=\"100%\" x=\"0\" y=\"0em\"><defs /><text text-anchor=\"middle\" x=\"50%\" y=\"1em\">NP</text></svg><svg width=\"50%\" x=\"0%\" y=\"3em\"><defs /><svg width=\"100%\" x=\"0\" y=\"0em\"><defs /><text text-anchor=\"middle\" x=\"50%\" y=\"1em\">the</text></svg></svg><line stroke=\"black\" x1=\"50%\" x2=\"25%\" y1=\"1.2em\" y2=\"3em\" /><svg width=\"50%\" x=\"50%\" y=\"3em\"><defs /><svg width=\"100%\" x=\"0\" y=\"0em\"><defs /><text text-anchor=\"middle\" x=\"50%\" y=\"1em\">cat</text></svg></svg><line stroke=\"black\" x1=\"50%\" x2=\"75%\" y1=\"1.2em\" y2=\"3em\" /></svg><line stroke=\"black\" x1=\"50%\" x2=\"17.2414%\" y1=\"1.2em\" y2=\"3em\" /><svg width=\"65.5172%\" x=\"34.4828%\" y=\"3em\"><defs /><svg width=\"100%\" x=\"0\" y=\"0em\"><defs /><text text-anchor=\"middle\" x=\"50%\" y=\"1em\">VP</text></svg><svg width=\"26.3158%\" x=\"0%\" y=\"3em\"><defs /><svg width=\"100%\" x=\"0\" y=\"0em\"><defs /><text text-anchor=\"middle\" x=\"50%\" y=\"1em\">sat</text></svg></svg><line stroke=\"black\" x1=\"50%\" x2=\"13.1579%\" y1=\"1.2em\" y2=\"3em\" /><svg width=\"21.0526%\" x=\"26.3158%\" y=\"3em\"><defs /><svg width=\"100%\" x=\"0\" y=\"0em\"><defs /><text text-anchor=\"middle\" x=\"50%\" y=\"1em\">on</text></svg></svg><line stroke=\"black\" x1=\"50%\" x2=\"36.8421%\" y1=\"1.2em\" y2=\"3em\" /><svg width=\"26.3158%\" x=\"47.3684%\" y=\"3em\"><defs /><svg width=\"100%\" x=\"0\" y=\"0em\"><defs /><text text-anchor=\"middle\" x=\"50%\" y=\"1em\">the</text></svg></svg><line stroke=\"black\" x1=\"50%\" x2=\"60.5263%\" y1=\"1.2em\" y2=\"3em\" /><svg width=\"26.3158%\" x=\"73.6842%\" y=\"3em\"><defs /><svg width=\"100%\" x=\"0\" y=\"0em\"><defs /><text text-anchor=\"middle\" x=\"50%\" y=\"1em\">mat</text></svg></svg><line stroke=\"black\" x1=\"50%\" x2=\"86.8421%\" y1=\"1.2em\" y2=\"3em\" /></svg><line stroke=\"black\" x1=\"50%\" x2=\"67.2414%\" y1=\"1.2em\" y2=\"3em\" /></svg>"
      ],
      "text/plain": [
       "Tree('S', [Tree('NP', ['the', 'cat']), Tree('VP', ['sat', 'on', 'the', 'mat'])])"
      ]
     },
     "execution_count": 57,
     "metadata": {},
     "output_type": "execute_result"
    }
   ],
   "source": [
    "import nltk\n",
    "from nltk.tree import Tree\n",
    "prp = Tree\n",
    "\n",
    "chunked = Tree(\"S\", [Tree(\"NP\", [\"the\", \"cat\"]), Tree(\"VP\", [\"sat\", \"on\", \"the\", \"mat\"])])\n",
    "chunked"
   ]
  },
  {
   "cell_type": "code",
   "execution_count": 58,
   "metadata": {},
   "outputs": [
    {
     "name": "stdout",
     "output_type": "stream",
     "text": [
      "(s (NP (PRP I)) (VP (VBD met) (NP (NN bill))))\n"
     ]
    }
   ],
   "source": [
    "PRP = Tree(\"PRP\", [\"I\"])\n",
    "VBD = Tree(\"VBD\", [\"met\"])\n",
    "N1 = Tree(\"NN\", [\"bill\"])\n",
    "\n",
    "NP1 = Tree(\"NP\", [PRP])\n",
    "NP = Tree(\"NP\", [N1])\n",
    "VP = Tree(\"VP\", [VBD, NP])\n",
    "\n",
    "S= Tree(\"s\", [NP1, VP])\n",
    "\n",
    "print(S)"
   ]
  },
  {
   "cell_type": "code",
   "execution_count": 59,
   "metadata": {},
   "outputs": [
    {
     "name": "stdout",
     "output_type": "stream",
     "text": [
      "(S (NP (PRP I)) (VP (VBD met) (NP (NN Bill))))\n"
     ]
    }
   ],
   "source": [
    "S = Tree.fromstring(\"(S (NP (PRP I)) (VP (VBD met) (NP (NN Bill))))\")\n",
    "print(S)"
   ]
  },
  {
   "cell_type": "code",
   "execution_count": 60,
   "metadata": {},
   "outputs": [],
   "source": [
    "from nltk.corpus import treebank\n",
    "\n",
    "# The function parsed_sents() returns the syntax trees in the treebank.\n",
    "syntax_trees = treebank.parsed_sents()\n"
   ]
  },
  {
   "cell_type": "code",
   "execution_count": 61,
   "metadata": {},
   "outputs": [
    {
     "name": "stdout",
     "output_type": "stream",
     "text": [
      "SINV ---------\n",
      "S-TPC-1 ---------\n",
      "NP-SBJ ---------\n",
      "VP ---------\n",
      "NP ---------\n",
      "NP ---------\n",
      "PP ---------\n",
      "SBAR ---------\n",
      "S ---------\n",
      "NP-SBJ ---------\n",
      "VP ---------\n",
      "PP-PRD ---------\n",
      "NP ---------\n",
      "VP ---------\n",
      "S ---------\n",
      "NP-SBJ ---------\n",
      "NP ---------\n",
      "PP ---------\n",
      "NP ---------\n",
      "NP ---------\n"
     ]
    },
    {
     "data": {
      "text/plain": [
       "[('``', 1),\n",
       " ('We', 1),\n",
       " ('have', 1),\n",
       " ('no', 1),\n",
       " ('useful', 1),\n",
       " ('information', 1),\n",
       " ('on', 1),\n",
       " ('whether', 1),\n",
       " ('users', 1),\n",
       " ('are', 1)]"
      ]
     },
     "execution_count": 61,
     "metadata": {},
     "output_type": "execute_result"
    }
   ],
   "source": [
    "from collections import Counter\n",
    "\n",
    "def iterate_tree(t, ls=[]):\n",
    "    \"\"\"\n",
    "    Recursively iterate through all nodes in a tree.\n",
    "    \"\"\"\n",
    "    if isinstance(t, Tree) and t.height() > 2:\n",
    "        print(t.label(), \"---------\")\n",
    "        for child in t:\n",
    "            iterate_tree(child, ls)\n",
    "    else:\n",
    "        ls.append(t.leaves()[0])\n",
    "        \n",
    "    return ls \n",
    "\n",
    "Counter(iterate_tree(treebank.parsed_sents()[11], [])).most_common(10)"
   ]
  },
  {
   "cell_type": "code",
   "execution_count": 62,
   "metadata": {},
   "outputs": [
    {
     "name": "stdout",
     "output_type": "stream",
     "text": [
      "(S (NP (PRP I)) (VP (VBD met) (NP (NN Bill))))\n",
      "---\n",
      "(NP (PRP I))\n",
      "---\n",
      "(PRP I)\n",
      "---\n",
      "(VP (VBD met) (NP (NN Bill)))\n",
      "---\n",
      "(VBD met)\n",
      "---\n",
      "(NP (NN Bill))\n",
      "---\n",
      "(NN Bill)\n",
      "---\n"
     ]
    }
   ],
   "source": [
    "for phrase in S.subtrees():\n",
    "    print(phrase)\n",
    "    print(\"---\")"
   ]
  },
  {
   "cell_type": "code",
   "execution_count": 63,
   "metadata": {},
   "outputs": [
    {
     "name": "stdout",
     "output_type": "stream",
     "text": [
      "(NP (PRP I))\n",
      "---\n",
      "(VP (VBD met) (NP (NN Bill)))\n",
      "---\n"
     ]
    }
   ],
   "source": [
    "for phrase in S:\n",
    "    print(phrase)\n",
    "    print(\"---\")"
   ]
  },
  {
   "cell_type": "code",
   "execution_count": 64,
   "metadata": {},
   "outputs": [
    {
     "data": {
      "text/plain": [
       "['I', 'met', 'Bill', 'I', 'met', 'Bill']"
      ]
     },
     "execution_count": 64,
     "metadata": {},
     "output_type": "execute_result"
    }
   ],
   "source": [
    "S = Tree.fromstring(\"(S (NP (PRP I)) (VP (VBD met) (NP (NN Bill))) (NP (PRP I)) (VP (VBD met) (NP (NN Bill))))\")\n",
    "S.leaves()"
   ]
  },
  {
   "cell_type": "code",
   "execution_count": 65,
   "metadata": {},
   "outputs": [
    {
     "name": "stdout",
     "output_type": "stream",
     "text": [
      "(S I met Bill I met Bill)\n"
     ]
    }
   ],
   "source": [
    "print(S.flatten())"
   ]
  },
  {
   "cell_type": "code",
   "execution_count": 66,
   "metadata": {},
   "outputs": [
    {
     "name": "stdout",
     "output_type": "stream",
     "text": [
      "(s (NP (PRP I)) (VP (VBD met) (NP (NN bill))))\n"
     ]
    }
   ],
   "source": [
    "np = Tree(\"NP\", [(\"I\", \"PRP\")])\n",
    "vp = Tree(\"VP\", [(\"met\", \"VBD\"), (\"NP\", [(\"Bill\", \"NN\")])])\n",
    "\n",
    "S= Tree(\"s\", [NP1, VP])\n",
    "print(S)"
   ]
  },
  {
   "cell_type": "code",
   "execution_count": 67,
   "metadata": {},
   "outputs": [
    {
     "name": "stdout",
     "output_type": "stream",
     "text": [
      "(S\n",
      "  (NP-SBJ\n",
      "    (NP (NNP Pierre) (NNP Vinken))\n",
      "    (, ,)\n",
      "    (ADJP (NP (CD 61) (NNS years)) (JJ old))\n",
      "    (, ,))\n",
      "  (VP\n",
      "    (MD will)\n",
      "    (VP\n",
      "      (VB join)\n",
      "      (NP (DT the) (NN board))\n",
      "      (PP-CLR (IN as) (NP (DT a) (JJ nonexecutive) (NN director)))\n",
      "      (NP-TMP (NNP Nov.) (CD 29))))\n",
      "  (. .))\n"
     ]
    }
   ],
   "source": [
    "from nltk.corpus import treebank\n",
    "syntax = treebank.parsed_sents()[0]\n",
    "print(syntax)"
   ]
  },
  {
   "cell_type": "code",
   "execution_count": 68,
   "metadata": {},
   "outputs": [
    {
     "name": "stdout",
     "output_type": "stream",
     "text": [
      "NP-SBJ\n",
      "VP\n",
      ".\n"
     ]
    }
   ],
   "source": [
    "for phrase in syntax:\n",
    "    print(phrase.label())"
   ]
  },
  {
   "cell_type": "code",
   "execution_count": 69,
   "metadata": {},
   "outputs": [
    {
     "name": "stdout",
     "output_type": "stream",
     "text": [
      "(NP-SBJ\n",
      "  (NP (NNP Pierre) (NNP Vinken))\n",
      "  (, ,)\n",
      "  (ADJP (NP (CD 61) (NNS years)) (JJ old))\n",
      "  (, ,)) --------------\n",
      "(VP\n",
      "  (MD will)\n",
      "  (VP\n",
      "    (VB join)\n",
      "    (NP (DT the) (NN board))\n",
      "    (PP-CLR (IN as) (NP (DT a) (JJ nonexecutive) (NN director)))\n",
      "    (NP-TMP (NNP Nov.) (CD 29)))) --------------\n",
      "(. .) --------------\n"
     ]
    }
   ],
   "source": [
    "for phrase in syntax:\n",
    "    print(phrase,\"--------------\")"
   ]
  },
  {
   "cell_type": "code",
   "execution_count": 70,
   "metadata": {},
   "outputs": [
    {
     "name": "stdout",
     "output_type": "stream",
     "text": [
      "['Pierre', 'Vinken', ',', '61', 'years', 'old', ',', 'will', 'join', 'the', 'board', 'as', 'a', 'nonexecutive', 'director', 'Nov.', '29', '.']\n"
     ]
    }
   ],
   "source": [
    "print(syntax.leaves())"
   ]
  },
  {
   "cell_type": "code",
   "execution_count": 71,
   "metadata": {},
   "outputs": [
    {
     "name": "stdout",
     "output_type": "stream",
     "text": [
      "(S\n",
      "  (NP-SBJ\n",
      "    (NP (NNP Pierre) (NNP Vinken))\n",
      "    (, ,)\n",
      "    (ADJP (NP (CD 61) (NNS years)) (JJ old))\n",
      "    (, ,))\n",
      "  (VP\n",
      "    (MD will)\n",
      "    (VP\n",
      "      (VB join)\n",
      "      (NP (DT the) (NN board))\n",
      "      (PP-CLR (IN as) (NP (DT a) (JJ nonexecutive) (NN director)))\n",
      "      (NP-TMP (NNP Nov.) (CD 29))))\n",
      "  (. .))\n",
      "--------------\n"
     ]
    }
   ],
   "source": [
    "for phrase in syntax.subtrees():\n",
    "    print(phrase)\n",
    "    print(\"--------------\")\n",
    "    break"
   ]
  },
  {
   "cell_type": "code",
   "execution_count": 72,
   "metadata": {},
   "outputs": [
    {
     "name": "stdout",
     "output_type": "stream",
     "text": [
      "(S\n",
      "  Pierre\n",
      "  Vinken\n",
      "  ,\n",
      "  61\n",
      "  years\n",
      "  old\n",
      "  ,\n",
      "  will\n",
      "  join\n",
      "  the\n",
      "  board\n",
      "  as\n",
      "  a\n",
      "  nonexecutive\n",
      "  director\n",
      "  Nov.\n",
      "  29\n",
      "  .)\n"
     ]
    }
   ],
   "source": [
    "print(syntax.flatten())"
   ]
  },
  {
   "cell_type": "code",
   "execution_count": 73,
   "metadata": {},
   "outputs": [
    {
     "name": "stdout",
     "output_type": "stream",
     "text": [
      "(S\n",
      "  Pierre\n",
      "  Vinken\n",
      "  ,\n",
      "  61\n",
      "  years\n",
      "  old\n",
      "  ,\n",
      "  will\n",
      "  join\n",
      "  the\n",
      "  board\n",
      "  as\n",
      "  a\n",
      "  nonexecutive\n",
      "  director\n",
      "  Nov.\n",
      "  29\n",
      "  .) NP-SBJ --------------------------\n",
      "(VP will join the board as a nonexecutive director Nov. 29) NP-SBJ --------------------------\n",
      "(VP join the board as a nonexecutive director Nov. 29) NP-SBJ --------------------------\n",
      "(NP the board) NP-SBJ --------------------------\n",
      "(PP-CLR as a nonexecutive director) NP-SBJ --------------------------\n",
      "(NP a nonexecutive director) NP-SBJ --------------------------\n",
      "(NP-TMP Nov. 29) NP-SBJ --------------------------\n"
     ]
    }
   ],
   "source": [
    "def extract_phrases_from_sent(sentence, phrase_type):\n",
    "    tokens = []\n",
    "    for phrase in sentence:\n",
    "        if phrase.label() == phrase_type:\n",
    "            tokens.extend([tok.lower() for tok in phrase.leaves() if not \"*\" in tok])\n",
    "        elif phrase.height() > 2:\n",
    "            print(phrase.flatten(), phrase_type, \"--------------------------\")\n",
    "            tokens.extend(extract_phrases_from_sent(phrase, phrase_type))\n",
    "    return tokens\n",
    "\n",
    "def extract_phrases(treebank, phrase_type):\n",
    "    tokens = []\n",
    "    #for s in treebank:\n",
    "    tokens.extend(extract_phrases_from_sent(treebank,phrase_type))\n",
    "    return tokens\n",
    "\n",
    "from collections import Counter\n",
    "first_sentence = treebank.parsed_sents()[:1]\n",
    "np_sbj_types = Counter(extract_phrases(first_sentence,\"NP-SBJ\"))"
   ]
  },
  {
   "cell_type": "code",
   "execution_count": 74,
   "metadata": {},
   "outputs": [
    {
     "data": {
      "text/plain": [
       "Counter({'pierre': 1, 'vinken': 1, ',': 2, '61': 1, 'years': 1, 'old': 1})"
      ]
     },
     "execution_count": 74,
     "metadata": {},
     "output_type": "execute_result"
    }
   ],
   "source": [
    "np_sbj_types"
   ]
  },
  {
   "cell_type": "code",
   "execution_count": 75,
   "metadata": {},
   "outputs": [
    {
     "data": {
      "text/plain": [
       "Counter({'pierre': 1, 'vinken': 1, ',': 2, '61': 1, 'years': 1, 'old': 1})"
      ]
     },
     "execution_count": 75,
     "metadata": {},
     "output_type": "execute_result"
    }
   ],
   "source": [
    "np_sbj_types"
   ]
  },
  {
   "cell_type": "code",
   "execution_count": 76,
   "metadata": {},
   "outputs": [
    {
     "name": "stdout",
     "output_type": "stream",
     "text": [
      "(S\n",
      "  Pierre\n",
      "  Vinken\n",
      "  ,\n",
      "  61\n",
      "  years\n",
      "  old\n",
      "  ,\n",
      "  will\n",
      "  join\n",
      "  the\n",
      "  board\n",
      "  as\n",
      "  a\n",
      "  nonexecutive\n",
      "  director\n",
      "  Nov.\n",
      "  29\n",
      "  .) NP --------------------------\n",
      "(NP-SBJ Pierre Vinken , 61 years old ,) NP --------------------------\n",
      "(ADJP 61 years old) NP --------------------------\n",
      "(VP will join the board as a nonexecutive director Nov. 29) NP --------------------------\n",
      "(VP join the board as a nonexecutive director Nov. 29) NP --------------------------\n",
      "(PP-CLR as a nonexecutive director) NP --------------------------\n",
      "(NP-TMP Nov. 29) NP --------------------------\n"
     ]
    },
    {
     "data": {
      "text/plain": [
       "Counter({'pierre': 1,\n",
       "         'vinken': 1,\n",
       "         '61': 1,\n",
       "         'years': 1,\n",
       "         'the': 1,\n",
       "         'board': 1,\n",
       "         'a': 1,\n",
       "         'nonexecutive': 1,\n",
       "         'director': 1})"
      ]
     },
     "execution_count": 76,
     "metadata": {},
     "output_type": "execute_result"
    }
   ],
   "source": [
    "np_sbj_types = Counter(extract_phrases(first_sentence,\"NP\"))\n",
    "np_sbj_types"
   ]
  },
  {
   "cell_type": "code",
   "execution_count": 77,
   "metadata": {},
   "outputs": [],
   "source": [
    "#Tree.fromstring(first_sentence)"
   ]
  },
  {
   "cell_type": "code",
   "execution_count": 78,
   "metadata": {},
   "outputs": [
    {
     "data": {
      "text/plain": [
       "[('The', 'DT'), ('dog', 'NN'), ('saw', 'VBD'), ('the', 'DT'), ('cat', 'NN')]"
      ]
     },
     "execution_count": 78,
     "metadata": {},
     "output_type": "execute_result"
    }
   ],
   "source": [
    "tree = Tree.fromstring(\"(S (NP (DT The) (NN dog)) (VP (VBD saw) (NP (DT the) (NN cat))))\")\n",
    "tree.pos()"
   ]
  },
  {
   "cell_type": "code",
   "execution_count": 79,
   "metadata": {},
   "outputs": [
    {
     "name": "stdout",
     "output_type": "stream",
     "text": [
      "+++++++++++++++++++ (S (NP (DT The) (NN dog)) (VP (VBD saw) (NP (DT the) (NN cat))))\n",
      "----------------------------------------------------------------- [('The', 'DT'), ('dog', 'NN')]\n",
      "+++++++++++++++++++ (VP (VBD saw) (NP (DT the) (NN cat)))\n",
      "===================== ('saw', 'VBD')\n",
      "----------------------------------------------------------------- [('the', 'DT'), ('cat', 'NN')]\n",
      "(S (NP The/DT dog/NN) (VP saw/VBD (NP the/DT cat/NN)))\n"
     ]
    }
   ],
   "source": [
    "# your code here\n",
    "def flatten_nps(tree):\n",
    "    \n",
    "    if tree.height() == 2:\n",
    "        print(\"=====================\", tree.pos()[0])\n",
    "        return tree.pos()[0]\n",
    "    elif tree.label() == \"NP\":\n",
    "        print(\"-----------------------------------------------------------------\", tree.pos())\n",
    "        return Tree(\"NP\",tree.pos())\n",
    "    else: \n",
    "        print(\"+++++++++++++++++++\", tree)\n",
    "        return Tree(tree.label(),[flatten_nps(node) for node in tree])\n",
    "\n",
    "print(flatten_nps(tree))"
   ]
  },
  {
   "cell_type": "code",
   "execution_count": 80,
   "metadata": {},
   "outputs": [],
   "source": [
    "import nltk\n",
    "from nltk.tree import Tree"
   ]
  },
  {
   "cell_type": "code",
   "execution_count": 81,
   "metadata": {},
   "outputs": [],
   "source": [
    "np  = Tree(\"NP\", [\"the\", \"cat\"])"
   ]
  },
  {
   "cell_type": "code",
   "execution_count": 82,
   "metadata": {},
   "outputs": [],
   "source": [
    "vp  = Tree(\"VP\", [\"sat\", \"on\", \"the\",\"mat\"])"
   ]
  },
  {
   "cell_type": "code",
   "execution_count": 83,
   "metadata": {},
   "outputs": [],
   "source": [
    "tree = Tree(\"S\", [np,vp])"
   ]
  },
  {
   "cell_type": "code",
   "execution_count": 84,
   "metadata": {},
   "outputs": [
    {
     "data": {
      "image/svg+xml": [
       "<svg baseProfile=\"full\" height=\"120px\" preserveAspectRatio=\"xMidYMid meet\" style=\"font-family: times, serif; font-weight:normal; font-style: normal; font-size: 16px;\" version=\"1.1\" viewBox=\"0,0,232.0,120.0\" width=\"232px\" xmlns=\"http://www.w3.org/2000/svg\" xmlns:ev=\"http://www.w3.org/2001/xml-events\" xmlns:xlink=\"http://www.w3.org/1999/xlink\"><defs /><svg width=\"100%\" x=\"0\" y=\"0em\"><defs /><text text-anchor=\"middle\" x=\"50%\" y=\"1em\">S</text></svg><svg width=\"34.4828%\" x=\"0%\" y=\"3em\"><defs /><svg width=\"100%\" x=\"0\" y=\"0em\"><defs /><text text-anchor=\"middle\" x=\"50%\" y=\"1em\">NP</text></svg><svg width=\"50%\" x=\"0%\" y=\"3em\"><defs /><svg width=\"100%\" x=\"0\" y=\"0em\"><defs /><text text-anchor=\"middle\" x=\"50%\" y=\"1em\">the</text></svg></svg><line stroke=\"black\" x1=\"50%\" x2=\"25%\" y1=\"1.2em\" y2=\"3em\" /><svg width=\"50%\" x=\"50%\" y=\"3em\"><defs /><svg width=\"100%\" x=\"0\" y=\"0em\"><defs /><text text-anchor=\"middle\" x=\"50%\" y=\"1em\">cat</text></svg></svg><line stroke=\"black\" x1=\"50%\" x2=\"75%\" y1=\"1.2em\" y2=\"3em\" /></svg><line stroke=\"black\" x1=\"50%\" x2=\"17.2414%\" y1=\"1.2em\" y2=\"3em\" /><svg width=\"65.5172%\" x=\"34.4828%\" y=\"3em\"><defs /><svg width=\"100%\" x=\"0\" y=\"0em\"><defs /><text text-anchor=\"middle\" x=\"50%\" y=\"1em\">VP</text></svg><svg width=\"26.3158%\" x=\"0%\" y=\"3em\"><defs /><svg width=\"100%\" x=\"0\" y=\"0em\"><defs /><text text-anchor=\"middle\" x=\"50%\" y=\"1em\">sat</text></svg></svg><line stroke=\"black\" x1=\"50%\" x2=\"13.1579%\" y1=\"1.2em\" y2=\"3em\" /><svg width=\"21.0526%\" x=\"26.3158%\" y=\"3em\"><defs /><svg width=\"100%\" x=\"0\" y=\"0em\"><defs /><text text-anchor=\"middle\" x=\"50%\" y=\"1em\">on</text></svg></svg><line stroke=\"black\" x1=\"50%\" x2=\"36.8421%\" y1=\"1.2em\" y2=\"3em\" /><svg width=\"26.3158%\" x=\"47.3684%\" y=\"3em\"><defs /><svg width=\"100%\" x=\"0\" y=\"0em\"><defs /><text text-anchor=\"middle\" x=\"50%\" y=\"1em\">the</text></svg></svg><line stroke=\"black\" x1=\"50%\" x2=\"60.5263%\" y1=\"1.2em\" y2=\"3em\" /><svg width=\"26.3158%\" x=\"73.6842%\" y=\"3em\"><defs /><svg width=\"100%\" x=\"0\" y=\"0em\"><defs /><text text-anchor=\"middle\" x=\"50%\" y=\"1em\">mat</text></svg></svg><line stroke=\"black\" x1=\"50%\" x2=\"86.8421%\" y1=\"1.2em\" y2=\"3em\" /></svg><line stroke=\"black\" x1=\"50%\" x2=\"67.2414%\" y1=\"1.2em\" y2=\"3em\" /></svg>"
      ],
      "text/plain": [
       "Tree('S', [Tree('NP', ['the', 'cat']), Tree('VP', ['sat', 'on', 'the', 'mat'])])"
      ]
     },
     "execution_count": 84,
     "metadata": {},
     "output_type": "execute_result"
    }
   ],
   "source": [
    "tree"
   ]
  },
  {
   "cell_type": "code",
   "execution_count": null,
   "metadata": {},
   "outputs": [],
   "source": []
  },
  {
   "cell_type": "code",
   "execution_count": 85,
   "metadata": {},
   "outputs": [],
   "source": [
    "s = \"i saw a grey cat\"\n",
    "from nltk import RegexpParser\n",
    "\n",
    "from nltk import pos_tag, word_tokenize\n",
    "\n",
    "tagged_sent = pos_tag(word_tokenize(s))"
   ]
  },
  {
   "cell_type": "code",
   "execution_count": 86,
   "metadata": {},
   "outputs": [],
   "source": [
    "vp_chunk = RegexpParser(\"VP: {<VB.*><DT>?<JJ>?<NN>}\")"
   ]
  },
  {
   "cell_type": "code",
   "execution_count": 87,
   "metadata": {},
   "outputs": [
    {
     "name": "stdout",
     "output_type": "stream",
     "text": [
      "(S i/NN (VP saw/VBD a/DT grey/JJ cat/NN))\n"
     ]
    }
   ],
   "source": [
    "\n",
    "print(vp_chunk.parse(tagged_sent))"
   ]
  },
  {
   "cell_type": "code",
   "execution_count": null,
   "metadata": {},
   "outputs": [],
   "source": []
  },
  {
   "cell_type": "code",
   "execution_count": 88,
   "metadata": {},
   "outputs": [
    {
     "name": "stdout",
     "output_type": "stream",
     "text": [
      "True\n"
     ]
    }
   ],
   "source": [
    "#q1\n",
    "import nltk\n",
    "from nltk import CFG\n",
    "\n",
    "def is_cnf(grammar_rule):\n",
    "    for prod in grammar_rule.productions():\n",
    "        rhs = prod.rhs()\n",
    "        if len(rhs) == 2:\n",
    "            if not all(isinstance(x, nltk.grammar.Nonterminal) for x in rhs):\n",
    "                return False\n",
    "        elif len(rhs) == 1:\n",
    "            if not isinstance(rhs[0], str):\n",
    "                return False\n",
    "        else:\n",
    "            return False\n",
    "    return True\n",
    "\n",
    "grammar_rule = nltk.CFG.fromstring(\"\"\"\n",
    "  S -> NP VP\n",
    "  NP -> Det N\n",
    "  VP -> V NP\n",
    "  Det -> 'the'\n",
    "  N -> 'dog' | 'cat'\n",
    "  V -> 'chased' | 'saw'\n",
    "\"\"\")\n",
    "\n",
    "print(is_cnf(grammar_rule)) # Output: True\n"
   ]
  },
  {
   "cell_type": "code",
   "execution_count": null,
   "metadata": {},
   "outputs": [],
   "source": []
  },
  {
   "cell_type": "code",
   "execution_count": null,
   "metadata": {},
   "outputs": [],
   "source": []
  },
  {
   "cell_type": "code",
   "execution_count": 89,
   "metadata": {},
   "outputs": [
    {
     "name": "stdout",
     "output_type": "stream",
     "text": [
      "Grammar with 19 productions (start state = S)\n",
      "    S -> NP VP\n",
      "    NP -> NP_Det\n",
      "    NP_Det -> Det Adj\n",
      "    NP_Adj -> Adj N\n",
      "    VP -> V NP\n",
      "    Det -> T_the\n",
      "    T_the -> 'the'\n",
      "    Adj -> T_big\n",
      "    T_big -> 'big'\n",
      "    Adj -> T_little\n",
      "    T_little -> 'little'\n",
      "    N -> T_dog\n",
      "    T_dog -> 'dog'\n",
      "    N -> T_cat\n",
      "    T_cat -> 'cat'\n",
      "    V -> T_chased\n",
      "    T_chased -> 'chased'\n",
      "    V -> T_saw\n",
      "    T_saw -> 'saw'\n"
     ]
    }
   ],
   "source": [
    "#q2\n",
    "import nltk\n",
    "from nltk import CFG\n",
    "\n",
    "def to_cnf(grammar):\n",
    "    # Step 1: Replace all terminals on the RHS of a production with a unique non-terminal.\n",
    "    new_productions = []\n",
    "    for production in grammar.productions():\n",
    "        rhs = production.rhs()\n",
    "        if len(rhs) == 1 and isinstance(rhs[0], str):\n",
    "            new_nonterminal = nltk.grammar.Nonterminal(\"T_\" + rhs[0])\n",
    "            new_production = nltk.grammar.Production(production.lhs(), (new_nonterminal,))\n",
    "            new_productions.append(new_production)\n",
    "            new_production = nltk.grammar.Production(new_nonterminal, (rhs[0],))\n",
    "            new_productions.append(new_production)\n",
    "        else:\n",
    "            new_productions.append(production)\n",
    "    grammar = CFG(grammar.start(), new_productions)\n",
    "    \n",
    "    # Step 2: Split any production with more than two symbols on the RHS into multiple productions.\n",
    "    new_productions = []\n",
    "    for production in grammar.productions():\n",
    "        rhs = production.rhs()\n",
    "        if len(rhs) > 2:\n",
    "            nonterminal = nltk.grammar.Nonterminal(str(production.lhs()) + \"_\" + str(rhs[0]))\n",
    "            new_production = nltk.grammar.Production(production.lhs(), (nonterminal,))\n",
    "            new_productions.append(new_production)\n",
    "            for i in range(len(rhs) - 1):\n",
    "                nonterminal = nltk.grammar.Nonterminal(str(production.lhs()) + \"_\" + str(rhs[i]))\n",
    "                new_production = nltk.grammar.Production(nonterminal, (rhs[i], rhs[i + 1]))\n",
    "                new_productions.append(new_production)\n",
    "        else:\n",
    "            new_productions.append(production)\n",
    "    grammar = CFG(grammar.start(), new_productions)\n",
    "    return grammar\n",
    "\n",
    "grammar = nltk.CFG.fromstring(\"\"\"\n",
    "  S -> NP VP\n",
    "  NP -> Det Adj N\n",
    "  VP -> V NP\n",
    "  Det -> 'the'\n",
    "  Adj -> 'big' | 'little'\n",
    "  N -> 'dog' | 'cat'\n",
    "  V -> 'chased' | 'saw'\n",
    "\"\"\")\n",
    "\n",
    "cnf_grammar = to_cnf(grammar)\n",
    "print(cnf_grammar)\n"
   ]
  },
  {
   "cell_type": "code",
   "execution_count": 90,
   "metadata": {},
   "outputs": [
    {
     "name": "stdout",
     "output_type": "stream",
     "text": [
      "UAS: 0.8\n",
      "LAS: 0.8\n"
     ]
    }
   ],
   "source": [
    "#Compute UAS and LAS\n",
    "\n",
    "def compute_uas(predicted_heads, true_heads):\n",
    "    correct_heads = sum([1 for p, t in zip(predicted_heads, true_heads) if p == t])\n",
    "    return correct_heads / len(true_heads)\n",
    "\n",
    "def compute_las(predicted_heads, predicted_labels, true_heads, true_labels):\n",
    "    correct_heads = sum([1 for p, t in zip(predicted_heads, true_heads) if p == t])\n",
    "    correct_labels = sum([1 for p_h, p_l, t_h, t_l in zip(predicted_heads, predicted_labels, true_heads, true_labels) if p_h == t_h and p_l == t_l])\n",
    "    return correct_labels / len(true_heads)\n",
    "\n",
    "predicted_heads = [1, 2, 3, 4, 5]\n",
    "true_heads = [1, 2, 3, 4, 6]\n",
    "predicted_labels = ['NP', 'VP', 'NP', 'VP', 'NP']\n",
    "true_labels = ['NP', 'VP', 'NP', 'VP', 'ADJP']\n",
    "\n",
    "uas = compute_uas(predicted_heads, true_heads)\n",
    "las = compute_las(predicted_heads, predicted_labels, true_heads, true_labels)\n",
    "\n",
    "print(\"UAS:\", uas)\n",
    "print(\"LAS:\", las)"
   ]
  },
  {
   "cell_type": "code",
   "execution_count": null,
   "metadata": {},
   "outputs": [],
   "source": []
  },
  {
   "cell_type": "code",
   "execution_count": null,
   "metadata": {},
   "outputs": [],
   "source": []
  },
  {
   "cell_type": "code",
   "execution_count": null,
   "metadata": {},
   "outputs": [],
   "source": []
  },
  {
   "cell_type": "code",
   "execution_count": null,
   "metadata": {},
   "outputs": [],
   "source": []
  },
  {
   "cell_type": "code",
   "execution_count": null,
   "metadata": {},
   "outputs": [],
   "source": []
  },
  {
   "cell_type": "code",
   "execution_count": null,
   "metadata": {},
   "outputs": [],
   "source": []
  },
  {
   "cell_type": "code",
   "execution_count": null,
   "metadata": {},
   "outputs": [],
   "source": []
  },
  {
   "cell_type": "code",
   "execution_count": null,
   "metadata": {},
   "outputs": [],
   "source": []
  },
  {
   "cell_type": "code",
   "execution_count": null,
   "metadata": {},
   "outputs": [],
   "source": []
  },
  {
   "cell_type": "code",
   "execution_count": null,
   "metadata": {},
   "outputs": [],
   "source": []
  },
  {
   "cell_type": "code",
   "execution_count": null,
   "metadata": {},
   "outputs": [],
   "source": []
  },
  {
   "cell_type": "code",
   "execution_count": null,
   "metadata": {},
   "outputs": [],
   "source": []
  },
  {
   "cell_type": "code",
   "execution_count": null,
   "metadata": {},
   "outputs": [],
   "source": []
  }
 ],
 "metadata": {
  "kernelspec": {
   "display_name": "Python 3 (ipykernel)",
   "language": "python",
   "name": "python3"
  },
  "language_info": {
   "codemirror_mode": {
    "name": "ipython",
    "version": 3
   },
   "file_extension": ".py",
   "mimetype": "text/x-python",
   "name": "python",
   "nbconvert_exporter": "python",
   "pygments_lexer": "ipython3",
   "version": "3.9.15"
  }
 },
 "nbformat": 4,
 "nbformat_minor": 2
}
