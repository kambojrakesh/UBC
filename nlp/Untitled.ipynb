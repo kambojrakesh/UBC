{
 "cells": [
  {
   "cell_type": "code",
   "execution_count": 1,
   "id": "fade1f46",
   "metadata": {},
   "outputs": [
    {
     "name": "stdout",
     "output_type": "stream",
     "text": [
      "[('The', 'AT'), ('cat', None), ('sat', 'VBD'), ('on', 'IN'), ('the', 'AT'), ('mat', 'NN'), ('.', '.')]\n"
     ]
    }
   ],
   "source": [
    "import nltk\n",
    "from nltk.corpus import brown\n",
    "from nltk.tag import UnigramTagger\n",
    "\n",
    "# Use the Brown corpus as training data\n",
    "training_data = brown.tagged_sents(categories='news')\n",
    "\n",
    "# Initialize the unigram tagger\n",
    "unigram_tagger = UnigramTagger(training_data)\n",
    "\n",
    "# Test the tagger on a new sentence\n",
    "sentence = \"The cat sat on the mat.\"\n",
    "print(unigram_tagger.tag(nltk.word_tokenize(sentence)))"
   ]
  },
  {
   "cell_type": "code",
   "execution_count": 2,
   "id": "cd00de15",
   "metadata": {},
   "outputs": [
    {
     "name": "stdout",
     "output_type": "stream",
     "text": [
      "<UnigramTagger: size=14394>\n"
     ]
    }
   ],
   "source": [
    "print(unigram_tagger)"
   ]
  },
  {
   "cell_type": "code",
   "execution_count": 3,
   "id": "be2ca844",
   "metadata": {},
   "outputs": [
    {
     "name": "stdout",
     "output_type": "stream",
     "text": [
      "tensor(-0.8000)\n"
     ]
    }
   ],
   "source": [
    "import torch\n",
    "\n",
    "# define the NLL loss function\n",
    "loss_fn = torch.nn.NLLLoss()\n",
    "\n",
    "# define the predicted probabilities and the true labels\n",
    "predicted_probs = torch.tensor([[0.1, 0.2, 0.7], [0.9, 0.05, 0.05]])\n",
    "true_labels = torch.tensor([2, 0])\n",
    "\n",
    "# calculate the NLL loss\n",
    "loss = loss_fn(predicted_probs, true_labels)\n",
    "print(loss)\n"
   ]
  },
  {
   "cell_type": "code",
   "execution_count": null,
   "id": "f98a055c",
   "metadata": {},
   "outputs": [],
   "source": []
  }
 ],
 "metadata": {
  "kernelspec": {
   "display_name": "Python 3 (ipykernel)",
   "language": "python",
   "name": "python3"
  },
  "language_info": {
   "codemirror_mode": {
    "name": "ipython",
    "version": 3
   },
   "file_extension": ".py",
   "mimetype": "text/x-python",
   "name": "python",
   "nbconvert_exporter": "python",
   "pygments_lexer": "ipython3",
   "version": "3.9.15"
  }
 },
 "nbformat": 4,
 "nbformat_minor": 5
}
