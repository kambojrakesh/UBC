{
 "cells": [
  {
   "cell_type": "code",
   "execution_count": 5,
   "id": "edb56873",
   "metadata": {},
   "outputs": [],
   "source": [
    "sent = \"So far, we have looked at how individual components work.\"\n",
    "\n"
   ]
  },
  {
   "cell_type": "code",
   "execution_count": 3,
   "id": "fb6526b8",
   "metadata": {},
   "outputs": [
    {
     "name": "stderr",
     "output_type": "stream",
     "text": [
      "100%|█████████████████████████████████████████████████████████████████████████████████████████████████████████████████████████████████████████████████████████████████████████| 232k/232k [00:00<00:00, 603kB/s]\n"
     ]
    }
   ],
   "source": [
    "from torchtext.transforms import BERTTokenizer\n",
    "\n",
    "\n",
    "VOCAB_FILE = \"https://huggingface.co/bert-base-uncased/resolve/main/vocab.txt\"\n",
    "\n",
    "bert_tokenizer = BERTTokenizer(\n",
    "    vocab_path=VOCAB_FILE, \n",
    "    do_lower_case=True, \n",
    "    return_tokens=True\n",
    ")"
   ]
  },
  {
   "cell_type": "code",
   "execution_count": 9,
   "id": "5d4a1909",
   "metadata": {},
   "outputs": [],
   "source": [
    "from collections import OrderedDict, Counter\n",
    "en_counter = Counter(bert_tokenizer(sent))"
   ]
  },
  {
   "cell_type": "code",
   "execution_count": 10,
   "id": "f2fecbc6",
   "metadata": {},
   "outputs": [],
   "source": [
    "ordered_en = OrderedDict(sorted(en_counter.items(), key=lambda x: x[1], reverse=True))"
   ]
  },
  {
   "cell_type": "code",
   "execution_count": 13,
   "id": "559ef62a",
   "metadata": {},
   "outputs": [],
   "source": [
    "from torchtext.vocab import vocab\n",
    "en_vocab = vocab(\n",
    "    ordered_en, \n",
    "    min_freq=1, \n",
    "    specials=('<BOS>', '<EOS>', '<PAD>', '<unk>')\n",
    ")"
   ]
  },
  {
   "cell_type": "code",
   "execution_count": 14,
   "id": "ba8698ea",
   "metadata": {},
   "outputs": [
    {
     "data": {
      "text/plain": [
       "{'we': 7,\n",
       " '<unk>': 3,\n",
       " '<BOS>': 0,\n",
       " 'far': 5,\n",
       " 'individual': 12,\n",
       " '<PAD>': 2,\n",
       " '<EOS>': 1,\n",
       " 'so': 4,\n",
       " ',': 6,\n",
       " 'have': 8,\n",
       " 'looked': 9,\n",
       " 'at': 10,\n",
       " 'how': 11,\n",
       " 'components': 13,\n",
       " 'work': 14,\n",
       " '.': 15}"
      ]
     },
     "execution_count": 14,
     "metadata": {},
     "output_type": "execute_result"
    }
   ],
   "source": [
    "en_vocab.get_stoi()"
   ]
  },
  {
   "cell_type": "code",
   "execution_count": 15,
   "id": "57ab2091",
   "metadata": {},
   "outputs": [
    {
     "data": {
      "text/plain": [
       "['<BOS>',\n",
       " '<EOS>',\n",
       " '<PAD>',\n",
       " '<unk>',\n",
       " 'so',\n",
       " 'far',\n",
       " ',',\n",
       " 'we',\n",
       " 'have',\n",
       " 'looked',\n",
       " 'at',\n",
       " 'how',\n",
       " 'individual',\n",
       " 'components',\n",
       " 'work',\n",
       " '.']"
      ]
     },
     "execution_count": 15,
     "metadata": {},
     "output_type": "execute_result"
    }
   ],
   "source": [
    "en_vocab.get_itos()"
   ]
  },
  {
   "cell_type": "code",
   "execution_count": null,
   "id": "c2f0fa6d",
   "metadata": {},
   "outputs": [],
   "source": []
  },
  {
   "cell_type": "code",
   "execution_count": 16,
   "id": "c3ab6584",
   "metadata": {},
   "outputs": [],
   "source": [
    "from torchtext.transforms import Sequential, VocabTransform, Truncate, AddToken"
   ]
  },
  {
   "cell_type": "code",
   "execution_count": 20,
   "id": "6bb36cce",
   "metadata": {},
   "outputs": [
    {
     "name": "stderr",
     "output_type": "stream",
     "text": [
      "100%|█████████████████████████████████████████████████████████████████████████████████████████████████████████████████████████████████████████████████████████████████████████| 232k/232k [00:00<00:00, 609kB/s]\n"
     ]
    }
   ],
   "source": [
    "VOCAB_FILE = \"https://huggingface.co/bert-base-uncased/resolve/main/vocab.txt\"\n",
    "max_seq_len = 512\n",
    "# assuming we don't have these in our vocab (which we do)\n",
    "bos_idx = 0  \n",
    "eos_idx = 1\n",
    "\n",
    "en_text_transform = Sequential(\n",
    "    BERTTokenizer(vocab_path=VOCAB_FILE),\n",
    "    VocabTransform(en_vocab),\n",
    "    Truncate(max_seq_len - 2),\n",
    "    AddToken(token=bos_idx, begin=True),\n",
    "    AddToken(token=eos_idx, begin=False)\n",
    ")"
   ]
  },
  {
   "cell_type": "code",
   "execution_count": null,
   "id": "dbb6551b",
   "metadata": {},
   "outputs": [],
   "source": []
  }
 ],
 "metadata": {
  "kernelspec": {
   "display_name": "Python 3 (ipykernel)",
   "language": "python",
   "name": "python3"
  },
  "language_info": {
   "codemirror_mode": {
    "name": "ipython",
    "version": 3
   },
   "file_extension": ".py",
   "mimetype": "text/x-python",
   "name": "python",
   "nbconvert_exporter": "python",
   "pygments_lexer": "ipython3",
   "version": "3.9.15"
  }
 },
 "nbformat": 4,
 "nbformat_minor": 5
}
